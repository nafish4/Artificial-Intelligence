{
  "nbformat": 4,
  "nbformat_minor": 0,
  "metadata": {
    "colab": {
      "provenance": []
    },
    "kernelspec": {
      "name": "python3",
      "display_name": "Python 3"
    },
    "language_info": {
      "name": "python"
    }
  },
  "cells": [
    {
      "cell_type": "code",
      "execution_count": 168,
      "metadata": {
        "colab": {
          "base_uri": "https://localhost:8080/"
        },
        "id": "ybQi2X1HtT0X",
        "outputId": "b8a005f7-fc08-467c-c06f-b6cc10fa049d"
      },
      "outputs": [
        {
          "output_type": "stream",
          "name": "stdout",
          "text": [
            "['Tamim', 'Shoumyo', 'Shakib', 'Afif', 'Mushfiq', 'Liton', 'Mahmudullah', 'Shanto']\n",
            "10101110"
          ]
        }
      ],
      "source": [
        "f1=open(\"input.txt\",\"r\")\n",
        "x=f1.readline().split(\" \")\n",
        "n=int(x[0])\n",
        "t=int(x[1])\n",
        "new_arr=[]\n",
        "goal=[]\n",
        "\n",
        "import random\n",
        "import copy\n",
        "\n",
        "pq=[]\n",
        "new=[]\n",
        "for i in range(n):\n",
        "    arr=f1.readline().split(\" \")\n",
        "    name=arr[0]\n",
        "    run=int(arr[1])\n",
        "    new_arr.append([name,run])\n",
        "for j in range(40):\n",
        "    array=[]\n",
        "    for i in range(n):\n",
        "        array.append(random.randint(0,1))\n",
        "    pq.append(array)\n",
        "\n",
        "def fitness(a):\n",
        "    sum=0\n",
        "    for i in range(n):\n",
        "        if a[i]==1:\n",
        "            sum+=new_arr[i][1]\n",
        "    return sum\n",
        "\n",
        "\n",
        "def crossover(a,b):\n",
        "    child1=a[:len(a)//2]+b[len(b)//2:]\n",
        "    child2=a[len(a)//2:]+b[:len(b)//2]\n",
        "\n",
        "    return [child1,child2]\n",
        "\n",
        "\n",
        "def mutation(child):\n",
        "    r=random.randint(0,n-1)\n",
        "    for i in child:\n",
        "        if i==r and child[r]==1:\n",
        "            child[r]=0\n",
        "        elif i==r and child[r]==0:\n",
        "            child[r]=1\n",
        "    return child\n",
        "\n",
        "for i in range(50000):\n",
        "\n",
        "    if len(pq)==0:\n",
        "        pq=copy.copy(new)\n",
        "        new=[]\n",
        "\n",
        "    a=pq.pop(0)\n",
        "    b=pq.pop(0)\n",
        "    p1=fitness(a)\n",
        "    p2=fitness(b)\n",
        "    if t-p1==0:\n",
        "        goal=copy.copy(a)\n",
        "\n",
        "        break\n",
        "    if t-p2==0:\n",
        "        goal=copy.copy(b)\n",
        "\n",
        "        break\n",
        "\n",
        "    u=random.random()\n",
        "    children=crossover(a,b)\n",
        "    child1=children[0]\n",
        "    child2=children[1]\n",
        "    if u>=0.5:\n",
        "        m1=mutation(child1)\n",
        "        m2=mutation(child2)\n",
        "\n",
        "        new.append(m1)\n",
        "        new.append(m2)\n",
        "\n",
        "    else:\n",
        "        new.append(child1)\n",
        "        new.append(child2)\n",
        "\n",
        "if len(goal)>0:\n",
        "    new_name=[]\n",
        "    for i in range(n):\n",
        "\n",
        "        new_name.append(new_arr[i][0])\n",
        "    print(new_name)\n",
        "    for i in range(n):\n",
        "        print(goal[i],end=\"\")\n",
        "else:\n",
        "    new_name=[]\n",
        "    for i in range(n):\n",
        "\n",
        "        new_name.append(new_arr[i][0])\n",
        "    print(new_name)\n",
        "    print(-1)\n",
        "\n",
        "f1.close()"
      ]
    }
  ]
}